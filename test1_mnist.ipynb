{
 "cells": [
  {
   "cell_type": "code",
   "execution_count": 1,
   "metadata": {},
   "outputs": [
    {
     "name": "stderr",
     "output_type": "stream",
     "text": [
      "c:\\Users\\brain\\anaconda3\\lib\\site-packages\\scipy\\__init__.py:155: UserWarning: A NumPy version >=1.18.5 and <1.25.0 is required for this version of SciPy (detected version 1.26.0\n",
      "  warnings.warn(f\"A NumPy version >={np_minversion} and <{np_maxversion}\"\n"
     ]
    }
   ],
   "source": [
    "from tensorflow.keras.datasets import mnist\n",
    "from tensorflow.keras import layers, models\n",
    "from tensorflow.keras.utils import to_categorical\n",
    "from sklearn.metrics import precision_score, recall_score, f1_score\n",
    "import numpy as np\n",
    "import matplotlib.pyplot as plt\n",
    "from tensorflow.keras.models import Sequential\n",
    "from tensorflow.keras.layers import Dense\n",
    "import pandas as pd"
   ]
  },
  {
   "cell_type": "code",
   "execution_count": 2,
   "metadata": {},
   "outputs": [],
   "source": [
    "# 加載MNIST資料集\n",
    "(X_train, y_train), (X_test, y_test) = mnist.load_data()"
   ]
  },
  {
   "cell_type": "code",
   "execution_count": 3,
   "metadata": {},
   "outputs": [],
   "source": [
    "# 預處理圖像資料\n",
    "X_train = X_train.reshape((60000, 28 * 28)).astype('float32') / 255\n",
    "X_test = X_test.reshape((10000, 28 * 28)).astype('float32') / 255"
   ]
  },
  {
   "cell_type": "code",
   "execution_count": 4,
   "metadata": {},
   "outputs": [],
   "source": [
    "# 編碼標籤\n",
    "y_train = to_categorical(y_train, 10)\n",
    "y_test = to_categorical(y_test, 10)"
   ]
  },
  {
   "cell_type": "code",
   "execution_count": 5,
   "metadata": {},
   "outputs": [],
   "source": [
    "# 建構模型\n",
    "model_mnist = models.Sequential()\n",
    "model_mnist.add(layers.Dense(1000, activation='relu', input_shape=(28 * 28,)))\n",
    "model_mnist.add(layers.Dense(10, activation='softmax'))"
   ]
  },
  {
   "cell_type": "code",
   "execution_count": 6,
   "metadata": {},
   "outputs": [],
   "source": [
    "# 編譯模型\n",
    "model_mnist.compile(optimizer='rmsprop', loss='categorical_crossentropy', metrics=['accuracy'])"
   ]
  },
  {
   "cell_type": "code",
   "execution_count": 7,
   "metadata": {},
   "outputs": [
    {
     "name": "stdout",
     "output_type": "stream",
     "text": [
      "Epoch 1/5\n",
      "469/469 [==============================] - 5s 10ms/step - loss: 0.2413 - accuracy: 0.9292\n",
      "Epoch 2/5\n",
      "469/469 [==============================] - 5s 10ms/step - loss: 0.0909 - accuracy: 0.9730\n",
      "Epoch 3/5\n",
      "469/469 [==============================] - 5s 10ms/step - loss: 0.0589 - accuracy: 0.9823\n",
      "Epoch 4/5\n",
      "469/469 [==============================] - 5s 11ms/step - loss: 0.0411 - accuracy: 0.9875\n",
      "Epoch 5/5\n",
      "469/469 [==============================] - 5s 11ms/step - loss: 0.0296 - accuracy: 0.9912\n"
     ]
    },
    {
     "data": {
      "text/plain": [
       "<keras.src.callbacks.History at 0x2966a340dc0>"
      ]
     },
     "execution_count": 7,
     "metadata": {},
     "output_type": "execute_result"
    }
   ],
   "source": [
    "# 訓練模型\n",
    "model_mnist.fit(X_train, y_train, epochs=5, batch_size=128)"
   ]
  },
  {
   "cell_type": "code",
   "execution_count": 8,
   "metadata": {},
   "outputs": [
    {
     "name": "stdout",
     "output_type": "stream",
     "text": [
      "313/313 [==============================] - 1s 3ms/step\n"
     ]
    }
   ],
   "source": [
    "# 預測\n",
    "y_pred_mnist = model_mnist.predict(X_test)\n",
    "y_pred_classes_mnist = np.argmax(y_pred_mnist, axis=1)\n",
    "y_true_mnist = np.argmax(y_test, axis=1)"
   ]
  },
  {
   "cell_type": "code",
   "execution_count": 9,
   "metadata": {},
   "outputs": [
    {
     "name": "stdout",
     "output_type": "stream",
     "text": [
      "Classification metrics for MNIST dataset:\n",
      "Precision: 0.9802\n",
      "Recall: 0.9801\n",
      "F1 Score: 0.9801\n"
     ]
    }
   ],
   "source": [
    "# 計算性能指標\n",
    "precision_mnist = precision_score(y_true_mnist, y_pred_classes_mnist, average='weighted')\n",
    "recall_mnist = recall_score(y_true_mnist, y_pred_classes_mnist, average='weighted')\n",
    "f1_mnist = f1_score(y_true_mnist, y_pred_classes_mnist, average='weighted')\n",
    "\n",
    "print(f'Classification metrics for MNIST dataset:')\n",
    "print(f'Precision: {precision_mnist:.4f}')\n",
    "print(f'Recall: {recall_mnist:.4f}')\n",
    "print(f'F1 Score: {f1_mnist:.4f}')"
   ]
  },
  {
   "cell_type": "code",
   "execution_count": 10,
   "metadata": {},
   "outputs": [
    {
     "data": {
      "image/png": "[encoded data removed]",
      "text/plain": [
       "<Figure size 900x900 with 9 Axes>"
      ]
     },
     "metadata": {},
     "output_type": "display_data"
    }
   ],
   "source": [
    "# 設置 Matplotlib 的字體\n",
    "plt.rcParams['font.sans-serif'] = ['Microsoft YaHei']  # 支援中文的字體\n",
    "plt.rcParams['axes.unicode_minus'] = False  # 解決負號「-」顯示為方塊的問題\n",
    "\n",
    "# 展示前9個手寫數字圖片\n",
    "plt.figure(figsize=(9, 9))\n",
    "for i in range(9):\n",
    "    plt.subplot(3, 3, i + 1)\n",
    "    img = X_train[i].reshape(28, 28)\n",
    "    plt.imshow(img, cmap='gray')\n",
    "    plt.title(f'Label: {y_train[i]}')\n",
    "    plt.axis('off')\n",
    "plt.tight_layout()\n",
    "plt.show()"
   ]
  },
  {
   "cell_type": "code",
   "execution_count": 11,
   "metadata": {},
   "outputs": [
    {
     "name": "stdout",
     "output_type": "stream",
     "text": [
      "1875/1875 [==============================] - 3s 2ms/step\n",
      "313/313 [==============================] - 1s 2ms/step\n",
      "1875/1875 [==============================] - 3s 2ms/step\n",
      "313/313 [==============================] - 1s 2ms/step\n",
      "1875/1875 [==============================] - 3s 1ms/step\n",
      "313/313 [==============================] - 1s 1ms/step\n",
      "1875/1875 [==============================] - 3s 2ms/step\n",
      "313/313 [==============================] - 1s 2ms/step\n",
      "1875/1875 [==============================] - 3s 2ms/step\n",
      "313/313 [==============================] - 1s 2ms/step\n",
      "1875/1875 [==============================] - 3s 2ms/step\n",
      "313/313 [==============================] - 1s 2ms/step\n",
      "1875/1875 [==============================] - 3s 1ms/step\n",
      "313/313 [==============================] - 1s 1ms/step\n",
      "1875/1875 [==============================] - 3s 2ms/step\n",
      "313/313 [==============================] - 1s 2ms/step\n",
      "1875/1875 [==============================] - 4s 2ms/step\n",
      "313/313 [==============================] - 1s 2ms/step\n",
      "1875/1875 [==============================] - 3s 2ms/step\n",
      "313/313 [==============================] - 1s 2ms/step\n",
      "1875/1875 [==============================] - 3s 1ms/step\n",
      "313/313 [==============================] - 1s 2ms/step\n",
      "1875/1875 [==============================] - 3s 1ms/step\n",
      "313/313 [==============================] - 1s 1ms/step\n",
      "1875/1875 [==============================] - 3s 1ms/step\n",
      "313/313 [==============================] - 0s 1ms/step\n",
      "1875/1875 [==============================] - 3s 2ms/step\n",
      "313/313 [==============================] - 1s 2ms/step\n",
      "1875/1875 [==============================] - 3s 2ms/step\n",
      "313/313 [==============================] - 1s 2ms/step\n",
      "1875/1875 [==============================] - 3s 2ms/step\n",
      "313/313 [==============================] - 1s 2ms/step\n",
      "1875/1875 [==============================] - 3s 2ms/step\n",
      "313/313 [==============================] - 1s 2ms/step\n",
      "1875/1875 [==============================] - 4s 2ms/step\n",
      "313/313 [==============================] - 1s 2ms/step\n",
      "1875/1875 [==============================] - 3s 2ms/step\n",
      "313/313 [==============================] - 1s 2ms/step\n",
      "1875/1875 [==============================] - 4s 2ms/step\n",
      "313/313 [==============================] - 1s 2ms/step\n",
      "1875/1875 [==============================] - 4s 2ms/step\n",
      "313/313 [==============================] - 1s 3ms/step\n",
      "1875/1875 [==============================] - 4s 2ms/step\n",
      "313/313 [==============================] - 1s 2ms/step\n",
      "1875/1875 [==============================] - 4s 2ms/step\n",
      "313/313 [==============================] - 1s 2ms/step\n",
      "1875/1875 [==============================] - 3s 2ms/step\n",
      "313/313 [==============================] - 1s 2ms/step\n",
      "    隱藏層數量  神經元數量  週期數  批次大小     訓練精確度     訓練召回率    訓練F1分數     測試精確度   測試召回率  \\\n",
      "0       1     32    5    64  0.966461  0.966283  0.966257  0.962696  0.9626   \n",
      "1       1     32    5   128  0.960102  0.960083  0.960027  0.954267  0.9542   \n",
      "2       1     32   10    64  0.976131  0.976067  0.976040  0.967850  0.9678   \n",
      "3       1     32   10   128  0.970786  0.970767  0.970758  0.963988  0.9639   \n",
      "4       2     32    5    64  0.970540  0.970500  0.970497  0.961932  0.9619   \n",
      "5       2     32    5   128  0.962941  0.962767  0.962673  0.955752  0.9553   \n",
      "6       2     32   10    64  0.983225  0.983200  0.983200  0.970503  0.9704   \n",
      "7       2     32   10   128  0.974586  0.974483  0.974441  0.964028  0.9638   \n",
      "8       3     32    5    64  0.971992  0.971817  0.971812  0.966435  0.9663   \n",
      "9       3     32    5   128  0.965615  0.965317  0.965237  0.957365  0.9569   \n",
      "10      3     32   10    64  0.979319  0.979100  0.979058  0.966774  0.9662   \n",
      "11      3     32   10   128  0.978491  0.978433  0.978406  0.964550  0.9644   \n",
      "12      1     64    5    64  0.981318  0.981283  0.981284  0.971355  0.9713   \n",
      "13      1     64    5   128  0.977406  0.977350  0.977355  0.969307  0.9693   \n",
      "14      1     64   10    64  0.987375  0.987217  0.987233  0.973634  0.9734   \n",
      "15      1     64   10   128  0.986537  0.986500  0.986496  0.972628  0.9725   \n",
      "16      2     64    5    64  0.981320  0.981033  0.981087  0.972475  0.9723   \n",
      "17      2     64    5   128  0.977118  0.976817  0.976770  0.968660  0.9682   \n",
      "18      2     64   10    64  0.990459  0.990367  0.990365  0.974936  0.9747   \n",
      "19      2     64   10   128  0.990909  0.990883  0.990877  0.976114  0.9761   \n",
      "20      3     64    5    64  0.983435  0.983283  0.983311  0.971736  0.9715   \n",
      "21      3     64    5   128  0.980516  0.980250  0.980297  0.968824  0.9685   \n",
      "22      3     64   10    64  0.991073  0.991033  0.991033  0.974382  0.9742   \n",
      "23      3     64   10   128  0.992028  0.992017  0.992015  0.974612  0.9746   \n",
      "\n",
      "      測試F1分數  \n",
      "0   0.962576  \n",
      "1   0.954141  \n",
      "2   0.967765  \n",
      "3   0.963880  \n",
      "4   0.961854  \n",
      "5   0.955196  \n",
      "6   0.970401  \n",
      "7   0.963756  \n",
      "8   0.966307  \n",
      "9   0.956813  \n",
      "10  0.966185  \n",
      "11  0.964352  \n",
      "12  0.971285  \n",
      "13  0.969281  \n",
      "14  0.973409  \n",
      "15  0.972494  \n",
      "16  0.972326  \n",
      "17  0.968138  \n",
      "18  0.974686  \n",
      "19  0.976082  \n",
      "20  0.971549  \n",
      "21  0.968545  \n",
      "22  0.974208  \n",
      "23  0.974583  \n"
     ]
    }
   ],
   "source": [
    "def build_model(n_layers, n_units, input_shape=(28 * 28,), num_classes=10):\n",
    "    model = Sequential()\n",
    "    model.add(Dense(n_units, activation='relu', input_shape=input_shape))\n",
    "    for _ in range(n_layers - 1):\n",
    "        model.add(Dense(n_units, activation='relu'))\n",
    "    model.add(Dense(num_classes, activation='softmax'))\n",
    "    model.compile(optimizer='rmsprop', loss='categorical_crossentropy', metrics=['accuracy'])\n",
    "    return model\n",
    "\n",
    "# 實驗配置\n",
    "experiments = [\n",
    "    {'n_layers': 1, 'n_units': 32},\n",
    "    {'n_layers': 2, 'n_units': 32},\n",
    "    {'n_layers': 3, 'n_units': 32},\n",
    "    {'n_layers': 1, 'n_units': 64},\n",
    "    {'n_layers': 2, 'n_units': 64},\n",
    "    {'n_layers': 3, 'n_units': 64},\n",
    "]\n",
    "\n",
    "epochs_list = [5, 10]\n",
    "batch_size_list = [64, 128]\n",
    "\n",
    "results = []\n",
    "\n",
    "# 進行實驗\n",
    "for exp in experiments:\n",
    "    for epochs in epochs_list:\n",
    "        for batch_size in batch_size_list:\n",
    "            model = build_model(exp['n_layers'], exp['n_units'])\n",
    "            model.fit(X_train, y_train, epochs=epochs, batch_size=batch_size, verbose=0)\n",
    "            \n",
    "            # 計算訓練資料的性能指標\n",
    "            y_pred_train = model.predict(X_train)\n",
    "            y_pred_classes_train = np.argmax(y_pred_train, axis=1)\n",
    "            y_true_train = np.argmax(y_train, axis=1)\n",
    "            \n",
    "            precision_train = precision_score(y_true_train, y_pred_classes_train, average='weighted')\n",
    "            recall_train = recall_score(y_true_train, y_pred_classes_train, average='weighted')\n",
    "            f1_train = f1_score(y_true_train, y_pred_classes_train, average='weighted')\n",
    "            \n",
    "            # 計算測試資料的性能指標\n",
    "            y_pred_test = model.predict(X_test)\n",
    "            y_pred_classes_test = np.argmax(y_pred_test, axis=1)\n",
    "            y_true_test = np.argmax(y_test, axis=1)\n",
    "            \n",
    "            precision_test = precision_score(y_true_test, y_pred_classes_test, average='weighted')\n",
    "            recall_test = recall_score(y_true_test, y_pred_classes_test, average='weighted')\n",
    "            f1_test = f1_score(y_true_test, y_pred_classes_test, average='weighted')\n",
    "            \n",
    "            # 記錄結果\n",
    "            results.append({\n",
    "                '隱藏層數量': exp['n_layers'],\n",
    "                '神經元數量': exp['n_units'],\n",
    "                '週期數': epochs,\n",
    "                '批次大小': batch_size,\n",
    "                '訓練精確度': precision_train,\n",
    "                '訓練召回率': recall_train,\n",
    "                '訓練F1分數': f1_train,\n",
    "                '測試精確度': precision_test,\n",
    "                '測試召回率': recall_test,\n",
    "                '測試F1分數': f1_test\n",
    "            })\n",
    "\n",
    "# 將結果轉換為DataFrame並顯示\n",
    "results_df = pd.DataFrame(results)\n",
    "print(results_df)"
   ]
  }
 ],
 "metadata": {
  "kernelspec": {
   "display_name": "base",
   "language": "python",
   "name": "python3"
  },
  "language_info": {
   "codemirror_mode": {
    "name": "ipython",
    "version": 3
   },
   "file_extension": ".py",
   "mimetype": "text/x-python",
   "name": "python",
   "nbconvert_exporter": "python",
   "pygments_lexer": "ipython3",
   "version": "3.9.13"
  }
 },
 "nbformat": 4,
 "nbformat_minor": 2
}
